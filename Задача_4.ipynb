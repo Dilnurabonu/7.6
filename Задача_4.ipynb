{
  "nbformat": 4,
  "nbformat_minor": 0,
  "metadata": {
    "colab": {
      "provenance": []
    },
    "kernelspec": {
      "name": "python3",
      "display_name": "Python 3"
    },
    "language_info": {
      "name": "python"
    }
  },
  "cells": [
    {
      "cell_type": "code",
      "execution_count": 1,
      "metadata": {
        "colab": {
          "base_uri": "https://localhost:8080/"
        },
        "id": "76MuwOvLiZyR",
        "outputId": "7d209b91-a292-4440-90e4-7a40c5fc9051"
      },
      "outputs": [
        {
          "output_type": "stream",
          "name": "stdout",
          "text": [
            "Начало отрезка: -5\n",
            "Конец отрезка: 12\n",
            "Числа из отрезка, которые делятся на 3:\n",
            "-3\n",
            "0\n",
            "3\n",
            "6\n",
            "9\n",
            "12\n",
            "Среднее арифметическое этих чисел: 4.5\n"
          ]
        }
      ],
      "source": [
        "a = int(input(\"Начало отрезка: \"))\n",
        "b = int(input(\"Конец отрезка: \"))\n",
        "\n",
        "numbers = []  # Список чисел, кратных 3\n",
        "for i in range(a, b + 1):\n",
        "    if i % 3 == 0:\n",
        "        numbers.append(i)\n",
        "\n",
        "if numbers:\n",
        "    print(\"Числа из отрезка, которые делятся на 3:\")\n",
        "    for num in numbers:\n",
        "        print(num)\n",
        "    average = sum(numbers) / len(numbers)\n",
        "    print(\"Среднее арифметическое этих чисел:\", round(average, 1))\n",
        "else:\n",
        "    print(\"На отрезке нет чисел, кратных 3.\")"
      ]
    }
  ]
}