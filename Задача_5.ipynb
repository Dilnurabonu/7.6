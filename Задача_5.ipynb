{
  "nbformat": 4,
  "nbformat_minor": 0,
  "metadata": {
    "colab": {
      "provenance": []
    },
    "kernelspec": {
      "name": "python3",
      "display_name": "Python 3"
    },
    "language_info": {
      "name": "python"
    }
  },
  "cells": [
    {
      "cell_type": "code",
      "execution_count": 1,
      "metadata": {
        "id": "iPIKl0K7jG58",
        "outputId": "b179322f-d7eb-47bc-bdac-2358e5fa7d00",
        "colab": {
          "base_uri": "https://localhost:8080/"
        }
      },
      "outputs": [
        {
          "output_type": "stream",
          "name": "stdout",
          "text": [
            "15\n",
            "24\n"
          ]
        }
      ],
      "source": [
        "for number in range(10, 100):  # Перебираем все двузначные числа\n",
        "    digit1 = number // 10  # Первая цифра числа\n",
        "    digit2 = number % 10  # Вторая цифра числа\n",
        "    if digit1 * digit2 * 3 == number:  # Проверяем условие\n",
        "        print(number)"
      ]
    }
  ]
}