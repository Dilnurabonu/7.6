{
  "nbformat": 4,
  "nbformat_minor": 0,
  "metadata": {
    "colab": {
      "provenance": []
    },
    "kernelspec": {
      "name": "python3",
      "display_name": "Python 3"
    },
    "language_info": {
      "name": "python"
    }
  },
  "cells": [
    {
      "cell_type": "code",
      "execution_count": 1,
      "metadata": {
        "colab": {
          "base_uri": "https://localhost:8080/"
        },
        "id": "gn1WD8piKjK4",
        "outputId": "e75d62af-560c-408d-8b58-77b5c804d39e"
      },
      "outputs": [
        {
          "output_type": "stream",
          "name": "stdout",
          "text": [
            "Введите номер человека: 2\n",
            "Введите номер человека: 3\n",
            "Введите номер человека: 4\n",
            "Введите номер человека: 5\n",
            "Введите номер человека: 6\n",
            "Введите номер человека: 7\n",
            "Введите номер человека: 8\n",
            "Введите номер человека: 9\n",
            "Введите номер человека: 10\n",
            "Введите номер человека: 11\n",
            "Количество корректных номеров (чётных и положительных): 5\n"
          ]
        }
      ],
      "source": [
        "count = 0  # Счетчик корректных номеров\n",
        "\n",
        "for i in range(10):\n",
        "    number = int(input(\"Введите номер человека: \"))  # Ввод номера\n",
        "    if number > 0 and number % 2 == 0:  # Проверка условий\n",
        "        count += 1\n",
        "\n",
        "print(\"Количество корректных номеров (чётных и положительных):\", count)"
      ]
    }
  ]
}