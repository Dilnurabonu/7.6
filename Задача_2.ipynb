{
  "nbformat": 4,
  "nbformat_minor": 0,
  "metadata": {
    "colab": {
      "provenance": []
    },
    "kernelspec": {
      "name": "python3",
      "display_name": "Python 3"
    },
    "language_info": {
      "name": "python"
    }
  },
  "cells": [
    {
      "cell_type": "code",
      "execution_count": 2,
      "metadata": {
        "colab": {
          "base_uri": "https://localhost:8080/"
        },
        "id": "F9m45HPHfBrN",
        "outputId": "71825bbd-d079-4622-c8b5-53e7a5ee6f96"
      },
      "outputs": [
        {
          "output_type": "stream",
          "name": "stdout",
          "text": [
            "Введите номер человека: 20000\n",
            "Введите номер человека: 30000\n",
            "Введите номер человека: 40000\n",
            "Введите номер человека: 450000\n",
            "Введите номер человека: 155000\n",
            "Введите номер человека: 15323\n",
            "Введите номер человека: 144\n",
            "Введите номер человека: 11555\n",
            "Введите номер человека: 555000\n",
            "Введите номер человека: 55522\n",
            "Количество корректных номеров (чётных и положительных): 8\n"
          ]
        }
      ],
      "source": [
        "count = 0  # Счетчик корректных номеров\n",
        "\n",
        "for i in range(10):\n",
        "    number = int(input(\"Введите номер человека: \"))  # Ввод номера\n",
        "    if number > 0 and number % 2 == 0:  # Проверка условий\n",
        "        count += 1\n",
        "\n",
        "print(\"Количество корректных номеров (чётных и положительных):\", count)\n"
      ]
    }
  ]
}