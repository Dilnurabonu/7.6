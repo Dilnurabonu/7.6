{
  "nbformat": 4,
  "nbformat_minor": 0,
  "metadata": {
    "colab": {
      "provenance": []
    },
    "kernelspec": {
      "name": "python3",
      "display_name": "Python 3"
    },
    "language_info": {
      "name": "python"
    }
  },
  "cells": [
    {
      "cell_type": "code",
      "execution_count": 1,
      "metadata": {
        "colab": {
          "base_uri": "https://localhost:8080/"
        },
        "id": "oaXwAmDtiAhT",
        "outputId": "70af10a8-5679-439e-f637-0e0046f94af4"
      },
      "outputs": [
        {
          "output_type": "stream",
          "name": "stdout",
          "text": [
            "Сколько в классе учеников? 3\n",
            "Введите оценку ученика: 4\n",
            "Введите оценку ученика: 4\n",
            "Введите оценку ученика: 5\n",
            "Сегодня больше хорошистов!\n"
          ]
        }
      ],
      "source": [
        "n = int(input(\"Сколько в классе учеников? \"))  # Количество учеников\n",
        "\n",
        "count_3 = 0\n",
        "count_4 = 0\n",
        "count_5 = 0\n",
        "\n",
        "for i in range(n):\n",
        "    grade = int(input(\"Введите оценку ученика: \"))  # Ввод оценки\n",
        "    if grade == 3:\n",
        "        count_3 += 1\n",
        "    elif grade == 4:\n",
        "        count_4 += 1\n",
        "    elif grade == 5:\n",
        "        count_5 += 1\n",
        "\n",
        "if count_5 > count_4 and count_5 > count_3:\n",
        "    print(\"Сегодня больше отличников!\")\n",
        "elif count_4 > count_5 and count_4 > count_3:\n",
        "    print(\"Сегодня больше хорошистов!\")\n",
        "else:\n",
        "    print(\"Сегодня больше троечников!\")\n"
      ]
    }
  ]
}